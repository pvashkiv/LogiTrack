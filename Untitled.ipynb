{
 "cells": [
  {
   "metadata": {
    "ExecuteTime": {
     "end_time": "2025-07-16T12:49:21.756638Z",
     "start_time": "2025-07-16T12:49:20.974864Z"
    }
   },
   "cell_type": "code",
   "source": [
    "import pandas as pd\n",
    "\n",
    "# Завантаження Excel-файлу\n",
    "df = pd.read_excel(\"Loads 2024.xlsx\", sheet_name=\"DATA\")\n",
    "\n",
    "# Попереднє очищення\n",
    "\n",
    "df[\"Miles\"] = pd.to_numeric(df[\"Miles\"], errors=\"coerce\")\n",
    "df[\"Rate\"] = pd.to_numeric(df[\"Rate\"], errors=\"coerce\")\n",
    "df[\"RPM\"] = pd.to_numeric(df[\"RPM\"], errors=\"coerce\")\n",
    "\n",
    "# Перевіримо, що все ок\n",
    "df.head()"
   ],
   "id": "5d4fed12338fc7da",
   "outputs": [
    {
     "data": {
      "text/plain": [
       "      start       end    Type  Load # Type of load     Status        RC  \\\n",
       "0  1/2/2024  1/8/2024    CONS  T38701          DRY     BILLED  52288462   \n",
       "1  1/2/2024  1/8/2024  CANCEL  T38702          DRY  AVAILABLE  28329665   \n",
       "2  1/2/2024  1/8/2024     OTR  T38703          DRY     BILLED   9114765   \n",
       "3  1/2/2024  1/8/2024     OTR  T38704           TC     BILLED  10220974   \n",
       "4  1/2/2024  1/8/2024     OTR  T38705           TC     BILLED  11857671   \n",
       "\n",
       "        Broker         From City From State        To City To State Occupancy  \\\n",
       "0         ECHO            GURNEE         IL         SPARKS       NV        TL   \n",
       "1       COYOTE  RANCHO DOMINGUEZ         CA         DEKALB       IL        TL   \n",
       "2    PAM TRANS          OLD FORT         OH   MURFREESBORO       TN        TL   \n",
       "3  SURGE TRANS            AURORA         IL  CENTER VALLEY       PA        TL   \n",
       "4          TTC            EDMOND         OK     JANESVILLE       WI        TL   \n",
       "\n",
       "  Pallets           Material Temperature Type of transport    Rate   Miles  \\\n",
       "0      22  Huel (Foodstuffs)         DRY              ROAD  4000.0  1930.0   \n",
       "1      25                NaN         DRY              ROAD  3400.0  2114.0   \n",
       "2     NaN               FOOD         DRY              ROAD  1600.0   503.0   \n",
       "3     NaN   GROCERY PRODUCTS         RPB              ROAD  2800.0   772.0   \n",
       "4     NaN        liquid eggs      38-40F              ROAD  2400.0   812.0   \n",
       "\n",
       "      RPM  \n",
       "0  2.0725  \n",
       "1  1.6083  \n",
       "2  3.1809  \n",
       "3  3.6269  \n",
       "4  2.9557  "
      ],
      "text/html": [
       "<div>\n",
       "<style scoped>\n",
       "    .dataframe tbody tr th:only-of-type {\n",
       "        vertical-align: middle;\n",
       "    }\n",
       "\n",
       "    .dataframe tbody tr th {\n",
       "        vertical-align: top;\n",
       "    }\n",
       "\n",
       "    .dataframe thead th {\n",
       "        text-align: right;\n",
       "    }\n",
       "</style>\n",
       "<table border=\"1\" class=\"dataframe\">\n",
       "  <thead>\n",
       "    <tr style=\"text-align: right;\">\n",
       "      <th></th>\n",
       "      <th>start</th>\n",
       "      <th>end</th>\n",
       "      <th>Type</th>\n",
       "      <th>Load #</th>\n",
       "      <th>Type of load</th>\n",
       "      <th>Status</th>\n",
       "      <th>RC</th>\n",
       "      <th>Broker</th>\n",
       "      <th>From City</th>\n",
       "      <th>From State</th>\n",
       "      <th>To City</th>\n",
       "      <th>To State</th>\n",
       "      <th>Occupancy</th>\n",
       "      <th>Pallets</th>\n",
       "      <th>Material</th>\n",
       "      <th>Temperature</th>\n",
       "      <th>Type of transport</th>\n",
       "      <th>Rate</th>\n",
       "      <th>Miles</th>\n",
       "      <th>RPM</th>\n",
       "    </tr>\n",
       "  </thead>\n",
       "  <tbody>\n",
       "    <tr>\n",
       "      <th>0</th>\n",
       "      <td>1/2/2024</td>\n",
       "      <td>1/8/2024</td>\n",
       "      <td>CONS</td>\n",
       "      <td>T38701</td>\n",
       "      <td>DRY</td>\n",
       "      <td>BILLED</td>\n",
       "      <td>52288462</td>\n",
       "      <td>ECHO</td>\n",
       "      <td>GURNEE</td>\n",
       "      <td>IL</td>\n",
       "      <td>SPARKS</td>\n",
       "      <td>NV</td>\n",
       "      <td>TL</td>\n",
       "      <td>22</td>\n",
       "      <td>Huel (Foodstuffs)</td>\n",
       "      <td>DRY</td>\n",
       "      <td>ROAD</td>\n",
       "      <td>4000.0</td>\n",
       "      <td>1930.0</td>\n",
       "      <td>2.0725</td>\n",
       "    </tr>\n",
       "    <tr>\n",
       "      <th>1</th>\n",
       "      <td>1/2/2024</td>\n",
       "      <td>1/8/2024</td>\n",
       "      <td>CANCEL</td>\n",
       "      <td>T38702</td>\n",
       "      <td>DRY</td>\n",
       "      <td>AVAILABLE</td>\n",
       "      <td>28329665</td>\n",
       "      <td>COYOTE</td>\n",
       "      <td>RANCHO DOMINGUEZ</td>\n",
       "      <td>CA</td>\n",
       "      <td>DEKALB</td>\n",
       "      <td>IL</td>\n",
       "      <td>TL</td>\n",
       "      <td>25</td>\n",
       "      <td>NaN</td>\n",
       "      <td>DRY</td>\n",
       "      <td>ROAD</td>\n",
       "      <td>3400.0</td>\n",
       "      <td>2114.0</td>\n",
       "      <td>1.6083</td>\n",
       "    </tr>\n",
       "    <tr>\n",
       "      <th>2</th>\n",
       "      <td>1/2/2024</td>\n",
       "      <td>1/8/2024</td>\n",
       "      <td>OTR</td>\n",
       "      <td>T38703</td>\n",
       "      <td>DRY</td>\n",
       "      <td>BILLED</td>\n",
       "      <td>9114765</td>\n",
       "      <td>PAM TRANS</td>\n",
       "      <td>OLD FORT</td>\n",
       "      <td>OH</td>\n",
       "      <td>MURFREESBORO</td>\n",
       "      <td>TN</td>\n",
       "      <td>TL</td>\n",
       "      <td>NaN</td>\n",
       "      <td>FOOD</td>\n",
       "      <td>DRY</td>\n",
       "      <td>ROAD</td>\n",
       "      <td>1600.0</td>\n",
       "      <td>503.0</td>\n",
       "      <td>3.1809</td>\n",
       "    </tr>\n",
       "    <tr>\n",
       "      <th>3</th>\n",
       "      <td>1/2/2024</td>\n",
       "      <td>1/8/2024</td>\n",
       "      <td>OTR</td>\n",
       "      <td>T38704</td>\n",
       "      <td>TC</td>\n",
       "      <td>BILLED</td>\n",
       "      <td>10220974</td>\n",
       "      <td>SURGE TRANS</td>\n",
       "      <td>AURORA</td>\n",
       "      <td>IL</td>\n",
       "      <td>CENTER VALLEY</td>\n",
       "      <td>PA</td>\n",
       "      <td>TL</td>\n",
       "      <td>NaN</td>\n",
       "      <td>GROCERY PRODUCTS</td>\n",
       "      <td>RPB</td>\n",
       "      <td>ROAD</td>\n",
       "      <td>2800.0</td>\n",
       "      <td>772.0</td>\n",
       "      <td>3.6269</td>\n",
       "    </tr>\n",
       "    <tr>\n",
       "      <th>4</th>\n",
       "      <td>1/2/2024</td>\n",
       "      <td>1/8/2024</td>\n",
       "      <td>OTR</td>\n",
       "      <td>T38705</td>\n",
       "      <td>TC</td>\n",
       "      <td>BILLED</td>\n",
       "      <td>11857671</td>\n",
       "      <td>TTC</td>\n",
       "      <td>EDMOND</td>\n",
       "      <td>OK</td>\n",
       "      <td>JANESVILLE</td>\n",
       "      <td>WI</td>\n",
       "      <td>TL</td>\n",
       "      <td>NaN</td>\n",
       "      <td>liquid eggs</td>\n",
       "      <td>38-40F</td>\n",
       "      <td>ROAD</td>\n",
       "      <td>2400.0</td>\n",
       "      <td>812.0</td>\n",
       "      <td>2.9557</td>\n",
       "    </tr>\n",
       "  </tbody>\n",
       "</table>\n",
       "</div>"
      ]
     },
     "execution_count": 7,
     "metadata": {},
     "output_type": "execute_result"
    }
   ],
   "execution_count": 7
  },
  {
   "metadata": {
    "ExecuteTime": {
     "end_time": "2025-07-16T12:52:07.526450Z",
     "start_time": "2025-07-16T12:52:07.522332Z"
    }
   },
   "cell_type": "code",
   "source": "df.iloc[137]",
   "id": "53af1d730a836a56",
   "outputs": [
    {
     "data": {
      "text/plain": [
       "start                  1/2/2024\n",
       "end                    1/8/2024\n",
       "Type                      LOCAL\n",
       "Load #                   T38896\n",
       "Type of load                DRY\n",
       "Status                   BILLED\n",
       "RC                      1023315\n",
       "Broker                MDX GROUP\n",
       "From City            WASHINGTON\n",
       "From State                   MO\n",
       "To City                LOCKPORT\n",
       "To State                     IL\n",
       "Occupancy                    TL\n",
       "Pallets                     NaN\n",
       "Material                    NaN\n",
       "Temperature                 DRY\n",
       "Type of transport          ROAD\n",
       "Rate                      900.0\n",
       "Miles                       NaN\n",
       "RPM                         0.0\n",
       "Name: 137, dtype: object"
      ]
     },
     "execution_count": 16,
     "metadata": {},
     "output_type": "execute_result"
    }
   ],
   "execution_count": 16
  },
  {
   "metadata": {
    "ExecuteTime": {
     "end_time": "2025-07-16T12:51:52.745101Z",
     "start_time": "2025-07-16T12:51:52.742496Z"
    }
   },
   "cell_type": "code",
   "source": "print(df.index)",
   "id": "9fc30b543cc962d1",
   "outputs": [
    {
     "name": "stdout",
     "output_type": "stream",
     "text": [
      "RangeIndex(start=0, stop=9096, step=1)\n"
     ]
    }
   ],
   "execution_count": 14
  },
  {
   "metadata": {
    "ExecuteTime": {
     "end_time": "2025-07-16T12:54:09.301094Z",
     "start_time": "2025-07-16T12:54:09.298412Z"
    }
   },
   "cell_type": "code",
   "source": "print(df[\"Miles\"].isna().sum())",
   "id": "b891482d74b0c0e9",
   "outputs": [
    {
     "name": "stdout",
     "output_type": "stream",
     "text": [
      "21\n"
     ]
    }
   ],
   "execution_count": 17
  }
 ],
 "metadata": {
  "kernelspec": {
   "display_name": "Python 3 (ipykernel)",
   "language": "python",
   "name": "python3"
  },
  "language_info": {
   "codemirror_mode": {
    "name": "ipython",
    "version": 3
   },
   "file_extension": ".py",
   "mimetype": "text/x-python",
   "name": "python",
   "nbconvert_exporter": "python",
   "pygments_lexer": "ipython3",
   "version": "3.9.6"
  }
 },
 "nbformat": 4,
 "nbformat_minor": 5
}
