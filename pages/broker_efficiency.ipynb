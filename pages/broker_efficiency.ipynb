{
 "cells": [
  {
   "metadata": {},
   "cell_type": "markdown",
   "source": [
    "# Завантаження та первинна обробка даних\n",
    "\n",
    "Дані завантажено з Excel-файлу. Виконано перетворення колонок `RPM`, `Miles` і `Rate` у числовий формат, а також нормалізацію текстових полів `Broker` і `Status` — видалено зайві пробіли, а статуси приведено до верхнього регістру для уніфікації."
   ],
   "id": "2d7997f6102cbd5c"
  },
  {
   "cell_type": "code",
   "id": "initial_id",
   "metadata": {
    "collapsed": true,
    "ExecuteTime": {
     "end_time": "2025-07-17T13:35:14.656258Z",
     "start_time": "2025-07-17T13:35:13.810574Z"
    }
   },
   "source": [
    "import pandas as pd\n",
    "from sklearn.preprocessing import MinMaxScaler\n",
    "\n",
    "df = pd.read_excel(\"../Loads 2024.xlsx\", sheet_name=\"DATA\")\n",
    "\n",
    "df[\"RPM\"] = pd.to_numeric(df[\"RPM\"], errors=\"coerce\")\n",
    "df[\"Miles\"] = pd.to_numeric(df[\"Miles\"], errors=\"coerce\")\n",
    "df[\"Rate\"] = pd.to_numeric(df[\"Rate\"], errors=\"coerce\")\n",
    "df[\"Broker\"] = df[\"Broker\"].astype(str).str.strip()\n",
    "df[\"Status\"] = df[\"Status\"].astype(str).str.strip().str.upper()"
   ],
   "outputs": [],
   "execution_count": 1
  },
  {
   "metadata": {},
   "cell_type": "markdown",
   "source": [
    "# Відбір записів для розрахунку середнього RPM та стабільності\n",
    "\n",
    "Вибрано лише вантажі зі статусом `BILLED` та позитивним значенням пройдених миль. Для них розраховано середній RPM (дохід за милю) та стандартне відхилення RPM по кожному брокеру, що відображає стабільність ціноутворення."
   ],
   "id": "9df271e83c0ceb8b"
  },
  {
   "metadata": {
    "ExecuteTime": {
     "end_time": "2025-07-17T13:35:14.730783Z",
     "start_time": "2025-07-17T13:35:14.725234Z"
    }
   },
   "cell_type": "code",
   "source": [
    "df_rpm = df[(df[\"Status\"] == \"BILLED\") & (df[\"Miles\"] > 0)]\n",
    "\n",
    "avg_rpm = df_rpm.groupby(\"Broker\")[\"RPM\"].mean()\n",
    "std_rpm = df_rpm.groupby(\"Broker\")[\"RPM\"].std().fillna(0)"
   ],
   "id": "ebc6cf9ec3c0a0a1",
   "outputs": [],
   "execution_count": 2
  },
  {
   "metadata": {},
   "cell_type": "markdown",
   "source": [
    "# Обчислення рівня успішності\n",
    "\n",
    "Для брокерів розраховано частку вантажів зі статусом `BILLED` від загальної кількості вантажів зі статусом `BILLED` або `CANCELED`. Цей показник відображає надійність брокера у виконанні замовлень."
   ],
   "id": "2735f726a1de3fbd"
  },
  {
   "metadata": {
    "ExecuteTime": {
     "end_time": "2025-07-17T13:35:14.745771Z",
     "start_time": "2025-07-17T13:35:14.739572Z"
    }
   },
   "cell_type": "code",
   "source": [
    "df_success = df[df[\"Status\"].isin([\"BILLED\", \"CANCELED\"])]\n",
    "success_counts = df_success.groupby([\"Broker\", \"Status\"]).size().unstack(fill_value=0)\n",
    "success_rate = success_counts[\"BILLED\"] / (success_counts[\"BILLED\"] + success_counts[\"CANCELED\"])"
   ],
   "id": "e1a7948318c76897",
   "outputs": [],
   "execution_count": 3
  },
  {
   "metadata": {},
   "cell_type": "markdown",
   "source": [
    "# Розрахунок загального обсягу вантажів\n",
    "\n",
    "Підраховано загальну кількість вантажів, оброблених кожним брокером, незалежно від статусу. Цей показник відображає масштаб діяльності брокера."
   ],
   "id": "69592eb3c2b3042d"
  },
  {
   "metadata": {
    "ExecuteTime": {
     "end_time": "2025-07-17T13:35:14.758209Z",
     "start_time": "2025-07-17T13:35:14.755491Z"
    }
   },
   "cell_type": "code",
   "source": "volume = df.groupby(\"Broker\").size()",
   "id": "9ccdd7d11dfef67f",
   "outputs": [],
   "execution_count": 4
  },
  {
   "metadata": {},
   "cell_type": "markdown",
   "source": [
    "# Формування основної таблиці метрик\n",
    "\n",
    "Об'єднано усі розраховані показники (середній RPM, стабільність, рівень успішності, обсяг вантажів) в єдиний DataFrame для подальшого аналізу. Пропущені значення заповнено нулями."
   ],
   "id": "2f6d84d49a9e585e"
  },
  {
   "metadata": {
    "ExecuteTime": {
     "end_time": "2025-07-17T13:35:14.772051Z",
     "start_time": "2025-07-17T13:35:14.768541Z"
    }
   },
   "cell_type": "code",
   "source": [
    "metrics = pd.DataFrame({\n",
    "    \"Avg RPM\": avg_rpm,\n",
    "    \"RPM Std\": std_rpm,\n",
    "    \"Success Rate\": success_rate,\n",
    "    \"Volume\": volume\n",
    "}).fillna(0)"
   ],
   "id": "8b5e551699280a05",
   "outputs": [],
   "execution_count": 5
  },
  {
   "metadata": {},
   "cell_type": "markdown",
   "source": [
    "# Нормалізація метрик\n",
    "\n",
    "Використано `MinMaxScaler` для масштабування трьох основних метрик (`Avg RPM`, `Success Rate`, `Volume`) до діапазону [0,1]. Для стабільності (`RPM Std`), де менше значення — краще, застосовано інверсію, щоб більші нормалізовані значення відповідали кращій стабільності."
   ],
   "id": "c82e1b55663436ba"
  },
  {
   "metadata": {
    "ExecuteTime": {
     "end_time": "2025-07-17T13:35:14.787503Z",
     "start_time": "2025-07-17T13:35:14.782552Z"
    }
   },
   "cell_type": "code",
   "source": [
    "scaler = MinMaxScaler()\n",
    "\n",
    "metrics[[\"Norm RPM\", \"Norm Success\", \"Norm Volume\"]] = scaler.fit_transform(\n",
    "    metrics[[\"Avg RPM\", \"Success Rate\", \"Volume\"]]\n",
    ")\n",
    "\n",
    "rpm_std_scaled = scaler.fit_transform(metrics[[\"RPM Std\"]])\n",
    "metrics[\"Norm Stability\"] = 1 - rpm_std_scaled.flatten()"
   ],
   "id": "fff551d8f1a8aeea",
   "outputs": [],
   "execution_count": 6
  },
  {
   "metadata": {},
   "cell_type": "markdown",
   "source": [
    "# Обчислення зваженого скору \"крутості\" брокера\n",
    "\n",
    "Зважено поєднано нормалізовані метрики з заданими коефіцієнтами важливості:\n",
    "\n",
    "- `Norm RPM` — 40% (прибутковість)\n",
    "- `Norm Success` — 30% (надійність)\n",
    "- `Norm Volume` — 20% (масштаб)\n",
    "- `Norm Stability` — 10% (стабільність ціноутворення)\n",
    "\n",
    "Отримано загальний скор, який потім масштабовано до шкали від 1 до 10."
   ],
   "id": "85495fe2ba79cad8"
  },
  {
   "metadata": {
    "ExecuteTime": {
     "end_time": "2025-07-17T13:35:14.801295Z",
     "start_time": "2025-07-17T13:35:14.798787Z"
    }
   },
   "cell_type": "code",
   "source": [
    "weights = {\n",
    "    \"Norm RPM\": 0.4,\n",
    "    \"Norm Success\": 0.3,\n",
    "    \"Norm Volume\": 0.2,\n",
    "    \"Norm Stability\": 0.1\n",
    "}\n",
    "\n",
    "metrics[\"Score\"] = (\n",
    "    metrics[\"Norm RPM\"] * weights[\"Norm RPM\"] +\n",
    "    metrics[\"Norm Success\"] * weights[\"Norm Success\"] +\n",
    "    metrics[\"Norm Volume\"] * weights[\"Norm Volume\"] +\n",
    "    metrics[\"Norm Stability\"] * weights[\"Norm Stability\"]\n",
    ")\n",
    "\n",
    "metrics[\"Score_1_10\"] = metrics[\"Score\"] * 9 + 1"
   ],
   "id": "f9d45db9f6c22a0b",
   "outputs": [],
   "execution_count": 7
  },
  {
   "metadata": {},
   "cell_type": "markdown",
   "source": [
    "# Формування фінального рейтингу брокерів\n",
    "\n",
    "Отримано відсортований за зменшенням скору DataFrame з метриками та рейтингом брокерів для подальшого аналізу та прийняття рішень."
   ],
   "id": "2e87b81b0e42ec36"
  },
  {
   "metadata": {
    "ExecuteTime": {
     "end_time": "2025-07-17T13:35:14.821902Z",
     "start_time": "2025-07-17T13:35:14.815535Z"
    }
   },
   "cell_type": "code",
   "source": [
    "top_brokers = metrics.sort_values(\"Score_1_10\", ascending=False)\n",
    "\n",
    "top_brokers[[\"Avg RPM\", \"Success Rate\", \"Volume\", \"RPM Std\", \"Score_1_10\"]].head(10)"
   ],
   "id": "29ad152cb7e20ff2",
   "outputs": [
    {
     "data": {
      "text/plain": [
       "                   Avg RPM  Success Rate  Volume    RPM Std  Score_1_10\n",
       "Broker                                                                 \n",
       "ALEXANDRA FOODS  57.692300      1.000000       2  59.832123    7.303125\n",
       "COYOTE            1.806544      1.000000     577   0.959339    6.498298\n",
       "ARRIVE LOG        1.831022      1.000000     421   0.791027    6.014857\n",
       "MOON EXPRESS     21.875000      1.000000       2   0.000000    5.968125\n",
       "CHRW              1.885811      0.997126     385   0.647634    5.900174\n",
       "ECHO              2.803470      0.997763     479  28.431655    5.834975\n",
       "UBER FREIGHT      1.817245      0.996094     281   0.486198    5.570536\n",
       "LINEAGE TRANS     3.036542      1.000000     244   0.701032    5.538310\n",
       "SYNERGY          14.179100      1.000000       2   0.000000    5.487901\n",
       "J.B.HUNT          2.018801      0.995305     227   0.665097    5.409543"
      ],
      "text/html": [
       "<div>\n",
       "<style scoped>\n",
       "    .dataframe tbody tr th:only-of-type {\n",
       "        vertical-align: middle;\n",
       "    }\n",
       "\n",
       "    .dataframe tbody tr th {\n",
       "        vertical-align: top;\n",
       "    }\n",
       "\n",
       "    .dataframe thead th {\n",
       "        text-align: right;\n",
       "    }\n",
       "</style>\n",
       "<table border=\"1\" class=\"dataframe\">\n",
       "  <thead>\n",
       "    <tr style=\"text-align: right;\">\n",
       "      <th></th>\n",
       "      <th>Avg RPM</th>\n",
       "      <th>Success Rate</th>\n",
       "      <th>Volume</th>\n",
       "      <th>RPM Std</th>\n",
       "      <th>Score_1_10</th>\n",
       "    </tr>\n",
       "    <tr>\n",
       "      <th>Broker</th>\n",
       "      <th></th>\n",
       "      <th></th>\n",
       "      <th></th>\n",
       "      <th></th>\n",
       "      <th></th>\n",
       "    </tr>\n",
       "  </thead>\n",
       "  <tbody>\n",
       "    <tr>\n",
       "      <th>ALEXANDRA FOODS</th>\n",
       "      <td>57.692300</td>\n",
       "      <td>1.000000</td>\n",
       "      <td>2</td>\n",
       "      <td>59.832123</td>\n",
       "      <td>7.303125</td>\n",
       "    </tr>\n",
       "    <tr>\n",
       "      <th>COYOTE</th>\n",
       "      <td>1.806544</td>\n",
       "      <td>1.000000</td>\n",
       "      <td>577</td>\n",
       "      <td>0.959339</td>\n",
       "      <td>6.498298</td>\n",
       "    </tr>\n",
       "    <tr>\n",
       "      <th>ARRIVE LOG</th>\n",
       "      <td>1.831022</td>\n",
       "      <td>1.000000</td>\n",
       "      <td>421</td>\n",
       "      <td>0.791027</td>\n",
       "      <td>6.014857</td>\n",
       "    </tr>\n",
       "    <tr>\n",
       "      <th>MOON EXPRESS</th>\n",
       "      <td>21.875000</td>\n",
       "      <td>1.000000</td>\n",
       "      <td>2</td>\n",
       "      <td>0.000000</td>\n",
       "      <td>5.968125</td>\n",
       "    </tr>\n",
       "    <tr>\n",
       "      <th>CHRW</th>\n",
       "      <td>1.885811</td>\n",
       "      <td>0.997126</td>\n",
       "      <td>385</td>\n",
       "      <td>0.647634</td>\n",
       "      <td>5.900174</td>\n",
       "    </tr>\n",
       "    <tr>\n",
       "      <th>ECHO</th>\n",
       "      <td>2.803470</td>\n",
       "      <td>0.997763</td>\n",
       "      <td>479</td>\n",
       "      <td>28.431655</td>\n",
       "      <td>5.834975</td>\n",
       "    </tr>\n",
       "    <tr>\n",
       "      <th>UBER FREIGHT</th>\n",
       "      <td>1.817245</td>\n",
       "      <td>0.996094</td>\n",
       "      <td>281</td>\n",
       "      <td>0.486198</td>\n",
       "      <td>5.570536</td>\n",
       "    </tr>\n",
       "    <tr>\n",
       "      <th>LINEAGE TRANS</th>\n",
       "      <td>3.036542</td>\n",
       "      <td>1.000000</td>\n",
       "      <td>244</td>\n",
       "      <td>0.701032</td>\n",
       "      <td>5.538310</td>\n",
       "    </tr>\n",
       "    <tr>\n",
       "      <th>SYNERGY</th>\n",
       "      <td>14.179100</td>\n",
       "      <td>1.000000</td>\n",
       "      <td>2</td>\n",
       "      <td>0.000000</td>\n",
       "      <td>5.487901</td>\n",
       "    </tr>\n",
       "    <tr>\n",
       "      <th>J.B.HUNT</th>\n",
       "      <td>2.018801</td>\n",
       "      <td>0.995305</td>\n",
       "      <td>227</td>\n",
       "      <td>0.665097</td>\n",
       "      <td>5.409543</td>\n",
       "    </tr>\n",
       "  </tbody>\n",
       "</table>\n",
       "</div>"
      ]
     },
     "execution_count": 8,
     "metadata": {},
     "output_type": "execute_result"
    }
   ],
   "execution_count": 8
  }
 ],
 "metadata": {
  "kernelspec": {
   "display_name": "Python 3",
   "language": "python",
   "name": "python3"
  },
  "language_info": {
   "codemirror_mode": {
    "name": "ipython",
    "version": 2
   },
   "file_extension": ".py",
   "mimetype": "text/x-python",
   "name": "python",
   "nbconvert_exporter": "python",
   "pygments_lexer": "ipython2",
   "version": "2.7.6"
  }
 },
 "nbformat": 4,
 "nbformat_minor": 5
}
