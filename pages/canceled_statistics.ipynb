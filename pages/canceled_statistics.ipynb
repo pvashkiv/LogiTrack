{
 "cells": [
  {
   "metadata": {},
   "cell_type": "markdown",
   "source": "# Статистика кансельнутих маршрутів",
   "id": "2cfbe9e86316f13f"
  },
  {
   "cell_type": "code",
   "id": "initial_id",
   "metadata": {
    "collapsed": true,
    "ExecuteTime": {
     "end_time": "2025-07-19T10:35:17.596886Z",
     "start_time": "2025-07-19T10:35:16.828125Z"
    }
   },
   "source": [
    "import pandas as pd\n",
    "\n",
    "df = pd.read_excel(\"../Loads 2024.xlsx\", sheet_name=\"DATA\")\n",
    "\n",
    "df[\"RPM\"] = pd.to_numeric(df[\"RPM\"], errors=\"coerce\")\n",
    "df[\"Miles\"] = pd.to_numeric(df[\"Miles\"], errors=\"coerce\")\n",
    "df[\"Rate\"] = pd.to_numeric(df[\"Rate\"], errors=\"coerce\")\n",
    "df[\"Broker\"] = df[\"Broker\"].astype(str).str.strip()\n",
    "df[\"Status\"] = df[\"Status\"].astype(str).str.strip().str.upper()"
   ],
   "outputs": [],
   "execution_count": 31
  },
  {
   "metadata": {},
   "cell_type": "markdown",
   "source": [
    "# Фільтрація скасованих рейсів\n",
    " Створено новий DataFrame лише з тими записами, де статус \"CANCELED\"."
   ],
   "id": "baf86f29c96d3e56"
  },
  {
   "metadata": {
    "ExecuteTime": {
     "end_time": "2025-07-19T10:35:17.612171Z",
     "start_time": "2025-07-19T10:35:17.609771Z"
    }
   },
   "cell_type": "code",
   "source": "df_canceled = df[df[\"Status\"] == \"CANCELED\"].copy()",
   "id": "4f1555918c28d068",
   "outputs": [],
   "execution_count": 32
  },
  {
   "metadata": {
    "ExecuteTime": {
     "end_time": "2025-07-19T10:35:17.625661Z",
     "start_time": "2025-07-19T10:35:17.623797Z"
    }
   },
   "cell_type": "code",
   "source": "print(\"Усього скасованих рейсів:\", len(df_canceled))",
   "id": "332e634c290dbbae",
   "outputs": [
    {
     "name": "stdout",
     "output_type": "stream",
     "text": [
      "Усього скасованих рейсів: 44\n"
     ]
    }
   ],
   "execution_count": 33
  },
  {
   "metadata": {
    "ExecuteTime": {
     "end_time": "2025-07-19T10:35:17.647294Z",
     "start_time": "2025-07-19T10:35:17.644491Z"
    }
   },
   "cell_type": "code",
   "source": "df_canceled[\"Broker\"].value_counts()",
   "id": "27f2862e2e94da20",
   "outputs": [
    {
     "data": {
      "text/plain": [
       "Broker\n",
       "TQL                 3\n",
       "AXLE LOG            3\n",
       "BNSF                2\n",
       "TRANSFIX            2\n",
       "EASE LOG            2\n",
       "MAGELLAN            2\n",
       "NOLAN TRANS         2\n",
       "ATG                 1\n",
       "TRAFFIX             1\n",
       "SCOTLYNN            1\n",
       "R2 LOG              1\n",
       "RXO                 1\n",
       "SIMPLE LOG          1\n",
       "J.B.HUNT            1\n",
       "UBER FREIGHT        1\n",
       "CBT                 1\n",
       "FREEWAY             1\n",
       "RYAN                1\n",
       "RPM                 1\n",
       "AVENUE LOG          1\n",
       "TRANSPLACE          1\n",
       "FEDEX               1\n",
       "LOGISTIC GROUP      1\n",
       "BAY AND BAY         1\n",
       "ADAM JAMES LOG      1\n",
       "ECHO                1\n",
       "ALLEN LUND          1\n",
       "CHRW                1\n",
       "TRINITY             1\n",
       "AMERICAN LOG        1\n",
       "ALBERTSON           1\n",
       "REDWOOD             1\n",
       "EXPEDITUS           1\n",
       "TRANSPORTATION 1    1\n",
       "SPOT                1\n",
       "Name: count, dtype: int64"
      ]
     },
     "execution_count": 34,
     "metadata": {},
     "output_type": "execute_result"
    }
   ],
   "execution_count": 34
  },
  {
   "metadata": {
    "ExecuteTime": {
     "end_time": "2025-07-19T10:35:17.683872Z",
     "start_time": "2025-07-19T10:35:17.680213Z"
    }
   },
   "cell_type": "code",
   "source": [
    "df_canceled.loc[:, \"Route\"] = df_canceled[\"From City\"].str.upper() + \" → \" + df_canceled[\"To City\"].str.upper()\n",
    "df_canceled[\"Route\"].value_counts().head(10)"
   ],
   "id": "6b09d03d1fb886b0",
   "outputs": [
    {
     "data": {
      "text/plain": [
       "Route\n",
       "FREMONT → ADRIAN                 2\n",
       "FRESNO → VAN BUREN TWP           2\n",
       "PLEASANT PRAIRIE → NEW ALBANY    1\n",
       "LODI → SOLON                     1\n",
       "CASHMERE → MARION                1\n",
       "MODESTO → BUFFALO GROVE          1\n",
       "GUNTERSVILLE → MORTON            1\n",
       "MANTECA → BROWNSTOWN TOWNSHIP    1\n",
       "ANDERSON → SCHAUMBURG            1\n",
       "BETHLEHEM → NEW LENOX            1\n",
       "Name: count, dtype: int64"
      ]
     },
     "execution_count": 35,
     "metadata": {},
     "output_type": "execute_result"
    }
   ],
   "execution_count": 35
  },
  {
   "metadata": {},
   "cell_type": "markdown",
   "source": [
    "# Статистика для відстані скасованих рейсів (`Miles`)\n",
    "| Показник | Пояснення |\n",
    "|----------|-----------|\n",
    "| `count`  | Кількість рейсів з вказаною відстанню (не NaN) |\n",
    "| `mean`   | Середнє значення відстані (в милях) |\n",
    "| `std`    | Стандартне відхилення — показує, наскільки дані варіативні |\n",
    "| `min`    | Мінімальна відстань |\n",
    "| `max`    | Максимальна відстань |"
   ],
   "id": "8b133e426118b714"
  },
  {
   "metadata": {
    "ExecuteTime": {
     "end_time": "2025-07-19T10:35:17.732953Z",
     "start_time": "2025-07-19T10:35:17.727824Z"
    }
   },
   "cell_type": "code",
   "source": [
    "df_canceled.loc[:, \"Miles\"] = pd.to_numeric(df_canceled[\"Miles\"], errors=\"coerce\")\n",
    "df_canceled[\"Miles\"].describe()[[\"count\", \"mean\", \"std\", \"min\", \"max\"]].to_frame().T"
   ],
   "id": "e063c9f381483453",
   "outputs": [
    {
     "data": {
      "text/plain": [
       "       count        mean         std    min     max\n",
       "Miles   43.0  1708.72093  802.914344  119.0  2428.0"
      ],
      "text/html": [
       "<div>\n",
       "<style scoped>\n",
       "    .dataframe tbody tr th:only-of-type {\n",
       "        vertical-align: middle;\n",
       "    }\n",
       "\n",
       "    .dataframe tbody tr th {\n",
       "        vertical-align: top;\n",
       "    }\n",
       "\n",
       "    .dataframe thead th {\n",
       "        text-align: right;\n",
       "    }\n",
       "</style>\n",
       "<table border=\"1\" class=\"dataframe\">\n",
       "  <thead>\n",
       "    <tr style=\"text-align: right;\">\n",
       "      <th></th>\n",
       "      <th>count</th>\n",
       "      <th>mean</th>\n",
       "      <th>std</th>\n",
       "      <th>min</th>\n",
       "      <th>max</th>\n",
       "    </tr>\n",
       "  </thead>\n",
       "  <tbody>\n",
       "    <tr>\n",
       "      <th>Miles</th>\n",
       "      <td>43.0</td>\n",
       "      <td>1708.72093</td>\n",
       "      <td>802.914344</td>\n",
       "      <td>119.0</td>\n",
       "      <td>2428.0</td>\n",
       "    </tr>\n",
       "  </tbody>\n",
       "</table>\n",
       "</div>"
      ]
     },
     "execution_count": 36,
     "metadata": {},
     "output_type": "execute_result"
    }
   ],
   "execution_count": 36
  },
  {
   "metadata": {},
   "cell_type": "markdown",
   "source": " 💰 Оцінка втрат через скасування",
   "id": "1f124dd46d294453"
  },
  {
   "metadata": {
    "ExecuteTime": {
     "end_time": "2025-07-19T10:35:17.784995Z",
     "start_time": "2025-07-19T10:35:17.782601Z"
    }
   },
   "cell_type": "code",
   "source": [
    "df_canceled[\"Rate\"] = pd.to_numeric(df_canceled[\"Rate\"], errors=\"coerce\")\n",
    "total_lost = df_canceled[\"Rate\"].sum()\n",
    "print(f\" Орієнтовна втрата прибутку через скасування: ${total_lost:,.2f}\")"
   ],
   "id": "372b66ecd4293737",
   "outputs": [
    {
     "name": "stdout",
     "output_type": "stream",
     "text": [
      " Орієнтовна втрата прибутку через скасування: $124,692.80\n"
     ]
    }
   ],
   "execution_count": 37
  },
  {
   "metadata": {},
   "cell_type": "markdown",
   "source": "# Графік скасувань по тижнях",
   "id": "414a9af406135fcd"
  },
  {
   "metadata": {
    "ExecuteTime": {
     "end_time": "2025-07-19T10:35:17.954329Z",
     "start_time": "2025-07-19T10:35:17.826110Z"
    }
   },
   "cell_type": "code",
   "source": [
    "df_canceled[\"start\"] = pd.to_datetime(df_canceled[\"start\"], errors=\"coerce\")\n",
    "df_canceled[\"Week\"] = df_canceled[\"start\"].dt.to_period(\"W\")\n",
    "\n",
    "df_canceled.groupby(\"Week\").size().plot(kind=\"bar\", figsize=(12, 4));"
   ],
   "id": "33face035a058d36",
   "outputs": [
    {
     "data": {
      "text/plain": [
       "<Figure size 1200x400 with 1 Axes>"
      ],
      "image/png": "[encoded data removed]"
     },
     "metadata": {},
     "output_type": "display_data"
    }
   ],
   "execution_count": 38
  },
  {
   "metadata": {},
   "cell_type": "markdown",
   "source": "# Аналіз скасувань по типах вантажів",
   "id": "354e01cd56852b7b"
  },
  {
   "metadata": {
    "ExecuteTime": {
     "end_time": "2025-07-19T10:35:17.969040Z",
     "start_time": "2025-07-19T10:35:17.966139Z"
    }
   },
   "cell_type": "code",
   "source": "df_canceled[\"Type of load\"].value_counts().head(10)",
   "id": "a491aba2773eef87",
   "outputs": [
    {
     "data": {
      "text/plain": [
       "Type of load\n",
       "DRY    35\n",
       "TC      9\n",
       "Name: count, dtype: int64"
      ]
     },
     "execution_count": 39,
     "metadata": {},
     "output_type": "execute_result"
    }
   ],
   "execution_count": 39
  }
 ],
 "metadata": {
  "kernelspec": {
   "display_name": "Python 3",
   "language": "python",
   "name": "python3"
  },
  "language_info": {
   "codemirror_mode": {
    "name": "ipython",
    "version": 2
   },
   "file_extension": ".py",
   "mimetype": "text/x-python",
   "name": "python",
   "nbconvert_exporter": "python",
   "pygments_lexer": "ipython2",
   "version": "2.7.6"
  }
 },
 "nbformat": 4,
 "nbformat_minor": 5
}
