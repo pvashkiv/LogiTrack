{
 "cells": [
  {
   "metadata": {},
   "cell_type": "markdown",
   "source": "# Аналіз ефективності логістичних маршрутів",
   "id": "47de1b23602e3181"
  },
  {
   "metadata": {},
   "cell_type": "markdown",
   "source": [
    "# Завантаження та попередня обробка даних\n",
    "\n",
    "Завантажено дані з Excel-файлу `Loads 2024.xlsx`, аркуш `DATA`.\n",
    "Виконано очищення: видалено записи з порожніми значеннями в ключових полях (`Rate`, `Miles`, `RPM`, `start`, `end`).\n",
    "Числові поля переведено у відповідний тип, а дати — у формат `datetime`."
   ],
   "id": "cc2bd99f3573d64e"
  },
  {
   "metadata": {
    "ExecuteTime": {
     "end_time": "2025-07-17T13:23:19.912667Z",
     "start_time": "2025-07-17T13:23:19.030538Z"
    }
   },
   "cell_type": "code",
   "source": [
    "import pandas as pd\n",
    "from sklearn.preprocessing import MinMaxScaler\n",
    "\n",
    "df = pd.read_excel(\"../Loads 2024.xlsx\", sheet_name=\"DATA\")\n",
    "\n",
    "df = df.dropna(subset=[\"Rate\", \"Miles\", \"RPM\", \"start\", \"end\"])\n",
    "df[\"Miles\"] = pd.to_numeric(df[\"Miles\"], errors=\"coerce\")\n",
    "df[\"Rate\"] = pd.to_numeric(df[\"Rate\"], errors=\"coerce\")\n",
    "df[\"RPM\"] = pd.to_numeric(df[\"RPM\"], errors=\"coerce\")\n",
    "df[\"start\"] = pd.to_datetime(df[\"start\"], errors=\"coerce\")\n",
    "df[\"end\"] = pd.to_datetime(df[\"end\"], errors=\"coerce\")"
   ],
   "id": "a2cf1f76ce9290ea",
   "outputs": [],
   "execution_count": 2
  },
  {
   "metadata": {},
   "cell_type": "markdown",
   "source": [
    "# Розрахунок тривалості поїздки та середньої швидкості (MPH)\n",
    "\n",
    "На основі полів `start` і `end` обчислено тривалість кожного рейсу в годинах.\n",
    "Для валідних записів (де `Miles` та `Hours` > 0) обраховано середню швидкість у милях на годину (`MPH`)."
   ],
   "id": "708bd2fa915340fd"
  },
  {
   "metadata": {
    "ExecuteTime": {
     "end_time": "2025-07-17T13:23:19.929081Z",
     "start_time": "2025-07-17T13:23:19.923871Z"
    }
   },
   "cell_type": "code",
   "source": [
    "df[\"Hours\"] = (df[\"end\"] - df[\"start\"]).dt.total_seconds() / 3600\n",
    "df = df[(df[\"Hours\"] > 0) & (df[\"Miles\"] > 0)]\n",
    "df[\"MPH\"] = df[\"Miles\"] / df[\"Hours\"]"
   ],
   "id": "6899d5de8d4b2071",
   "outputs": [],
   "execution_count": 3
  },
  {
   "metadata": {},
   "cell_type": "markdown",
   "source": [
    "# Побудова унікального ідентифікатора маршруту\n",
    "\n",
    "Згенеровано поле `Route`, яке поєднує назви міст і штатів відправлення та призначення у форматі:\n",
    "`From City, From State → To City, To State`"
   ],
   "id": "efafc7e8581f6612"
  },
  {
   "metadata": {
    "ExecuteTime": {
     "end_time": "2025-07-17T13:23:19.950151Z",
     "start_time": "2025-07-17T13:23:19.939760Z"
    }
   },
   "cell_type": "code",
   "source": [
    "df[\"Route\"] = (\n",
    "    df[\"From City\"].str.strip() + \", \" +\n",
    "    df[\"From State\"].str.strip() + \" → \" +\n",
    "    df[\"To City\"].str.strip() + \", \" +\n",
    "    df[\"To State\"].str.strip()\n",
    ")"
   ],
   "id": "497aa84f45a33b0c",
   "outputs": [],
   "execution_count": 4
  },
  {
   "metadata": {},
   "cell_type": "markdown",
   "source": [
    "# Групування та обчислення середніх показників по маршрутах\n",
    "\n",
    "Дані агреговано за маршрутом. Для кожного маршруту розраховано:\n",
    "- Середній `MPH`\n",
    "- Середній `RPM` (дохід за милю)\n",
    "- Середню кількість миль (`Miles`)\n",
    "- Середній тариф (`Rate`)\n",
    "- Кількість поїздок (`Trips`)"
   ],
   "id": "220eda23d6729444"
  },
  {
   "metadata": {
    "ExecuteTime": {
     "end_time": "2025-07-17T13:23:19.964531Z",
     "start_time": "2025-07-17T13:23:19.958877Z"
    }
   },
   "cell_type": "code",
   "source": [
    "grouped = df.groupby(\"Route\").agg({\n",
    "    \"MPH\": \"mean\",\n",
    "    \"RPM\": \"mean\",\n",
    "    \"Miles\": \"mean\",\n",
    "    \"Rate\": \"mean\",\n",
    "    \"start\": \"count\"\n",
    "}).rename(columns={\"start\": \"Trips\"}).reset_index()"
   ],
   "id": "ee80b782673654c3",
   "outputs": [],
   "execution_count": 5
  },
  {
   "metadata": {},
   "cell_type": "markdown",
   "source": [
    "# Масштабування метрик до єдиного діапазону\n",
    "\n",
    "Для забезпечення порівнюваності показників виконано нормалізацію `MPH` та `RPM`\n",
    "до діапазону [0, 1] за допомогою `MinMaxScaler`."
   ],
   "id": "7e8f8afeccf7f491"
  },
  {
   "metadata": {
    "ExecuteTime": {
     "end_time": "2025-07-17T13:23:19.979174Z",
     "start_time": "2025-07-17T13:23:19.975829Z"
    }
   },
   "cell_type": "code",
   "source": [
    "scaler = MinMaxScaler()\n",
    "grouped[[\"MPH_norm\", \"RPM_norm\"]] = scaler.fit_transform(grouped[[\"MPH\", \"RPM\"]])"
   ],
   "id": "296985beba47c9d",
   "outputs": [],
   "execution_count": 6
  },
  {
   "metadata": {},
   "cell_type": "markdown",
   "source": [
    "# Розрахунок зваженої ефективності маршруту\n",
    "\n",
    "На основі нормалізованих метрик розраховано оцінку `Score`:\n",
    "- 60% — швидкість (`MPH`)\n",
    "- 40% — дохід за милю (`RPM`)\n",
    "\n",
    "Після чого скор масштабовано до шкали від 1 до 10 (`Score_1_10`), де 10 — найефективніший маршрут."
   ],
   "id": "71a27bd967916b58"
  },
  {
   "metadata": {
    "ExecuteTime": {
     "end_time": "2025-07-17T13:23:19.993709Z",
     "start_time": "2025-07-17T13:23:19.991326Z"
    }
   },
   "cell_type": "code",
   "source": [
    "grouped[\"Score\"] = grouped[\"MPH_norm\"] * 0.6 + grouped[\"RPM_norm\"] * 0.4\n",
    "grouped[\"Score_1_10\"] = (grouped[\"Score\"] * 9 + 1).round(2)"
   ],
   "id": "583ba7688fabf442",
   "outputs": [],
   "execution_count": 7
  },
  {
   "metadata": {},
   "cell_type": "markdown",
   "source": [
    "# Формування фінальної таблиці з ефективністю маршрутів\n",
    "\n",
    "Побудовано підсумкову таблицю з ключовими метриками та оцінкою ефективності для кожного маршруту.\n",
    "Таблиця відсортована за зменшенням оцінки (`Score_1_10`) для подальшого аналізу."
   ],
   "id": "e40e464513ad1f4d"
  },
  {
   "metadata": {
    "ExecuteTime": {
     "end_time": "2025-07-17T13:23:20.011416Z",
     "start_time": "2025-07-17T13:23:20.004202Z"
    }
   },
   "cell_type": "code",
   "source": [
    "result = grouped[[\n",
    "    \"Route\", \"MPH\", \"RPM\", \"Miles\", \"Rate\", \"Trips\", \"Score_1_10\"\n",
    "]].sort_values(\"Score_1_10\", ascending=False).reset_index(drop=True)\n",
    "\n",
    "result"
   ],
   "id": "1788e3a46f7f19f1",
   "outputs": [
    {
     "data": {
      "text/plain": [
       "                                            Route        MPH         RPM  \\\n",
       "0     AMERICAN CANYON, CA → ARLINGTON HEIGHTS, IL  62.736111    0.088600   \n",
       "1                     STOCKTON, CA → STOCKTON, CA   0.013889  600.000000   \n",
       "2                 ALAMEDA, CA → VAN BUREN TWP, MI  29.742424    0.998682   \n",
       "3                     PATTERSON, CA → LIVONIA, TX  29.423611    2.088700   \n",
       "4                         ELGIN, IL → MANKATO, MN  27.784722    0.223700   \n",
       "...                                           ...        ...         ...   \n",
       "4793                   SALEM, SC → GREENVILLE, SC   0.368056    6.792500   \n",
       "4794                     MODESTO, CA → ACAMPO, CA   0.375000    6.481500   \n",
       "4795               CHICAGO RIDGE, IL → ELWOOD, IL   0.395833    5.263200   \n",
       "4796                   RIVERSIDE, CA → VERNON, CA   0.402778    5.172400   \n",
       "4797                     RANTOUL, IL → ELWOOD, IL   0.631944    1.648400   \n",
       "\n",
       "            Miles         Rate  Trips  Score_1_10  \n",
       "0     9034.000000   800.000000      1        6.40  \n",
       "1        2.000000  1200.000000      1        4.60  \n",
       "2     4282.909091  2495.454545     11        3.57  \n",
       "3     4237.000000  8850.000000      1        3.54  \n",
       "4     4001.000000   895.000000      1        3.39  \n",
       "...           ...          ...    ...         ...  \n",
       "4793    53.000000   360.000000      1        1.07  \n",
       "4794    54.000000   350.000000      1        1.07  \n",
       "4795    57.000000   300.000000      1        1.06  \n",
       "4796    58.000000   300.000000      1        1.06  \n",
       "4797    91.000000   150.000000      1        1.06  \n",
       "\n",
       "[4798 rows x 7 columns]"
      ],
      "text/html": [
       "<div>\n",
       "<style scoped>\n",
       "    .dataframe tbody tr th:only-of-type {\n",
       "        vertical-align: middle;\n",
       "    }\n",
       "\n",
       "    .dataframe tbody tr th {\n",
       "        vertical-align: top;\n",
       "    }\n",
       "\n",
       "    .dataframe thead th {\n",
       "        text-align: right;\n",
       "    }\n",
       "</style>\n",
       "<table border=\"1\" class=\"dataframe\">\n",
       "  <thead>\n",
       "    <tr style=\"text-align: right;\">\n",
       "      <th></th>\n",
       "      <th>Route</th>\n",
       "      <th>MPH</th>\n",
       "      <th>RPM</th>\n",
       "      <th>Miles</th>\n",
       "      <th>Rate</th>\n",
       "      <th>Trips</th>\n",
       "      <th>Score_1_10</th>\n",
       "    </tr>\n",
       "  </thead>\n",
       "  <tbody>\n",
       "    <tr>\n",
       "      <th>0</th>\n",
       "      <td>AMERICAN CANYON, CA → ARLINGTON HEIGHTS, IL</td>\n",
       "      <td>62.736111</td>\n",
       "      <td>0.088600</td>\n",
       "      <td>9034.000000</td>\n",
       "      <td>800.000000</td>\n",
       "      <td>1</td>\n",
       "      <td>6.40</td>\n",
       "    </tr>\n",
       "    <tr>\n",
       "      <th>1</th>\n",
       "      <td>STOCKTON, CA → STOCKTON, CA</td>\n",
       "      <td>0.013889</td>\n",
       "      <td>600.000000</td>\n",
       "      <td>2.000000</td>\n",
       "      <td>1200.000000</td>\n",
       "      <td>1</td>\n",
       "      <td>4.60</td>\n",
       "    </tr>\n",
       "    <tr>\n",
       "      <th>2</th>\n",
       "      <td>ALAMEDA, CA → VAN BUREN TWP, MI</td>\n",
       "      <td>29.742424</td>\n",
       "      <td>0.998682</td>\n",
       "      <td>4282.909091</td>\n",
       "      <td>2495.454545</td>\n",
       "      <td>11</td>\n",
       "      <td>3.57</td>\n",
       "    </tr>\n",
       "    <tr>\n",
       "      <th>3</th>\n",
       "      <td>PATTERSON, CA → LIVONIA, TX</td>\n",
       "      <td>29.423611</td>\n",
       "      <td>2.088700</td>\n",
       "      <td>4237.000000</td>\n",
       "      <td>8850.000000</td>\n",
       "      <td>1</td>\n",
       "      <td>3.54</td>\n",
       "    </tr>\n",
       "    <tr>\n",
       "      <th>4</th>\n",
       "      <td>ELGIN, IL → MANKATO, MN</td>\n",
       "      <td>27.784722</td>\n",
       "      <td>0.223700</td>\n",
       "      <td>4001.000000</td>\n",
       "      <td>895.000000</td>\n",
       "      <td>1</td>\n",
       "      <td>3.39</td>\n",
       "    </tr>\n",
       "    <tr>\n",
       "      <th>...</th>\n",
       "      <td>...</td>\n",
       "      <td>...</td>\n",
       "      <td>...</td>\n",
       "      <td>...</td>\n",
       "      <td>...</td>\n",
       "      <td>...</td>\n",
       "      <td>...</td>\n",
       "    </tr>\n",
       "    <tr>\n",
       "      <th>4793</th>\n",
       "      <td>SALEM, SC → GREENVILLE, SC</td>\n",
       "      <td>0.368056</td>\n",
       "      <td>6.792500</td>\n",
       "      <td>53.000000</td>\n",
       "      <td>360.000000</td>\n",
       "      <td>1</td>\n",
       "      <td>1.07</td>\n",
       "    </tr>\n",
       "    <tr>\n",
       "      <th>4794</th>\n",
       "      <td>MODESTO, CA → ACAMPO, CA</td>\n",
       "      <td>0.375000</td>\n",
       "      <td>6.481500</td>\n",
       "      <td>54.000000</td>\n",
       "      <td>350.000000</td>\n",
       "      <td>1</td>\n",
       "      <td>1.07</td>\n",
       "    </tr>\n",
       "    <tr>\n",
       "      <th>4795</th>\n",
       "      <td>CHICAGO RIDGE, IL → ELWOOD, IL</td>\n",
       "      <td>0.395833</td>\n",
       "      <td>5.263200</td>\n",
       "      <td>57.000000</td>\n",
       "      <td>300.000000</td>\n",
       "      <td>1</td>\n",
       "      <td>1.06</td>\n",
       "    </tr>\n",
       "    <tr>\n",
       "      <th>4796</th>\n",
       "      <td>RIVERSIDE, CA → VERNON, CA</td>\n",
       "      <td>0.402778</td>\n",
       "      <td>5.172400</td>\n",
       "      <td>58.000000</td>\n",
       "      <td>300.000000</td>\n",
       "      <td>1</td>\n",
       "      <td>1.06</td>\n",
       "    </tr>\n",
       "    <tr>\n",
       "      <th>4797</th>\n",
       "      <td>RANTOUL, IL → ELWOOD, IL</td>\n",
       "      <td>0.631944</td>\n",
       "      <td>1.648400</td>\n",
       "      <td>91.000000</td>\n",
       "      <td>150.000000</td>\n",
       "      <td>1</td>\n",
       "      <td>1.06</td>\n",
       "    </tr>\n",
       "  </tbody>\n",
       "</table>\n",
       "<p>4798 rows × 7 columns</p>\n",
       "</div>"
      ]
     },
     "execution_count": 8,
     "metadata": {},
     "output_type": "execute_result"
    }
   ],
   "execution_count": 8
  }
 ],
 "metadata": {
  "kernelspec": {
   "display_name": "Python 3",
   "language": "python",
   "name": "python3"
  },
  "language_info": {
   "codemirror_mode": {
    "name": "ipython",
    "version": 2
   },
   "file_extension": ".py",
   "mimetype": "text/x-python",
   "name": "python",
   "nbconvert_exporter": "python",
   "pygments_lexer": "ipython2",
   "version": "2.7.6"
  }
 },
 "nbformat": 4,
 "nbformat_minor": 5
}
